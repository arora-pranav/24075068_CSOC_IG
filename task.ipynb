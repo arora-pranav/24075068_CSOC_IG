{
 "cells": [
  {
   "cell_type": "code",
   "execution_count": 197,
   "metadata": {},
   "outputs": [],
   "source": [
    "import seaborn as sns\n",
    "import pandas as pd\n",
    "import time\n",
    "import numpy as np\n",
    "import matplotlib.pyplot as plt\n",
    "from sklearn.model_selection import train_test_split\n",
    "from sklearn.preprocessing import StandardScaler, OneHotEncoder\n",
    "from sklearn.linear_model import LinearRegression"
   ]
  },
  {
   "cell_type": "code",
   "execution_count": 198,
   "metadata": {},
   "outputs": [],
   "source": [
    "df = pd.read_csv('data/housing_processed.csv')\n",
    "\n",
    "df = df.drop(columns=['Unnamed: 0'])\n",
    "\n",
    "y = df['median_house_value']\n",
    "X = df.drop(columns='median_house_value')"
   ]
  },
  {
   "cell_type": "code",
   "execution_count": 199,
   "metadata": {},
   "outputs": [
    {
     "data": {
      "text/html": [
       "<div>\n",
       "<style scoped>\n",
       "    .dataframe tbody tr th:only-of-type {\n",
       "        vertical-align: middle;\n",
       "    }\n",
       "\n",
       "    .dataframe tbody tr th {\n",
       "        vertical-align: top;\n",
       "    }\n",
       "\n",
       "    .dataframe thead th {\n",
       "        text-align: right;\n",
       "    }\n",
       "</style>\n",
       "<table border=\"1\" class=\"dataframe\">\n",
       "  <thead>\n",
       "    <tr style=\"text-align: right;\">\n",
       "      <th></th>\n",
       "      <th>median_income</th>\n",
       "      <th>median_house_value</th>\n",
       "      <th>ocean_proximity</th>\n",
       "      <th>avg_rooms</th>\n",
       "      <th>avg_population</th>\n",
       "    </tr>\n",
       "  </thead>\n",
       "  <tbody>\n",
       "    <tr>\n",
       "      <th>0</th>\n",
       "      <td>8.3252</td>\n",
       "      <td>452600.0</td>\n",
       "      <td>NEAR BAY</td>\n",
       "      <td>6.984127</td>\n",
       "      <td>2.555556</td>\n",
       "    </tr>\n",
       "    <tr>\n",
       "      <th>1</th>\n",
       "      <td>8.3014</td>\n",
       "      <td>358500.0</td>\n",
       "      <td>NEAR BAY</td>\n",
       "      <td>6.238137</td>\n",
       "      <td>2.109842</td>\n",
       "    </tr>\n",
       "    <tr>\n",
       "      <th>2</th>\n",
       "      <td>7.2574</td>\n",
       "      <td>352100.0</td>\n",
       "      <td>NEAR BAY</td>\n",
       "      <td>8.288136</td>\n",
       "      <td>2.802260</td>\n",
       "    </tr>\n",
       "    <tr>\n",
       "      <th>3</th>\n",
       "      <td>5.6431</td>\n",
       "      <td>341300.0</td>\n",
       "      <td>NEAR BAY</td>\n",
       "      <td>5.817352</td>\n",
       "      <td>2.547945</td>\n",
       "    </tr>\n",
       "    <tr>\n",
       "      <th>4</th>\n",
       "      <td>3.8462</td>\n",
       "      <td>342200.0</td>\n",
       "      <td>NEAR BAY</td>\n",
       "      <td>6.281853</td>\n",
       "      <td>2.181467</td>\n",
       "    </tr>\n",
       "    <tr>\n",
       "      <th>...</th>\n",
       "      <td>...</td>\n",
       "      <td>...</td>\n",
       "      <td>...</td>\n",
       "      <td>...</td>\n",
       "      <td>...</td>\n",
       "    </tr>\n",
       "    <tr>\n",
       "      <th>18802</th>\n",
       "      <td>1.5603</td>\n",
       "      <td>78100.0</td>\n",
       "      <td>INLAND</td>\n",
       "      <td>5.045455</td>\n",
       "      <td>2.560606</td>\n",
       "    </tr>\n",
       "    <tr>\n",
       "      <th>18803</th>\n",
       "      <td>2.5568</td>\n",
       "      <td>77100.0</td>\n",
       "      <td>INLAND</td>\n",
       "      <td>6.114035</td>\n",
       "      <td>3.122807</td>\n",
       "    </tr>\n",
       "    <tr>\n",
       "      <th>18804</th>\n",
       "      <td>1.7000</td>\n",
       "      <td>92300.0</td>\n",
       "      <td>INLAND</td>\n",
       "      <td>5.205543</td>\n",
       "      <td>2.325635</td>\n",
       "    </tr>\n",
       "    <tr>\n",
       "      <th>18805</th>\n",
       "      <td>1.8672</td>\n",
       "      <td>84700.0</td>\n",
       "      <td>INLAND</td>\n",
       "      <td>5.329513</td>\n",
       "      <td>2.123209</td>\n",
       "    </tr>\n",
       "    <tr>\n",
       "      <th>18806</th>\n",
       "      <td>2.3886</td>\n",
       "      <td>89400.0</td>\n",
       "      <td>INLAND</td>\n",
       "      <td>5.254717</td>\n",
       "      <td>2.616981</td>\n",
       "    </tr>\n",
       "  </tbody>\n",
       "</table>\n",
       "<p>18807 rows × 5 columns</p>\n",
       "</div>"
      ],
      "text/plain": [
       "       median_income  median_house_value ocean_proximity  avg_rooms  \\\n",
       "0             8.3252            452600.0        NEAR BAY   6.984127   \n",
       "1             8.3014            358500.0        NEAR BAY   6.238137   \n",
       "2             7.2574            352100.0        NEAR BAY   8.288136   \n",
       "3             5.6431            341300.0        NEAR BAY   5.817352   \n",
       "4             3.8462            342200.0        NEAR BAY   6.281853   \n",
       "...              ...                 ...             ...        ...   \n",
       "18802         1.5603             78100.0          INLAND   5.045455   \n",
       "18803         2.5568             77100.0          INLAND   6.114035   \n",
       "18804         1.7000             92300.0          INLAND   5.205543   \n",
       "18805         1.8672             84700.0          INLAND   5.329513   \n",
       "18806         2.3886             89400.0          INLAND   5.254717   \n",
       "\n",
       "       avg_population  \n",
       "0            2.555556  \n",
       "1            2.109842  \n",
       "2            2.802260  \n",
       "3            2.547945  \n",
       "4            2.181467  \n",
       "...               ...  \n",
       "18802        2.560606  \n",
       "18803        3.122807  \n",
       "18804        2.325635  \n",
       "18805        2.123209  \n",
       "18806        2.616981  \n",
       "\n",
       "[18807 rows x 5 columns]"
      ]
     },
     "execution_count": 199,
     "metadata": {},
     "output_type": "execute_result"
    }
   ],
   "source": [
    "df"
   ]
  },
  {
   "cell_type": "code",
   "execution_count": 200,
   "metadata": {},
   "outputs": [],
   "source": [
    "encoder = OneHotEncoder(handle_unknown='error', sparse_output=False)\n",
    "one_hot = encoder.fit_transform(X[['ocean_proximity']])\n",
    "column_names = encoder.get_feature_names_out()\n",
    "\n",
    "OH_cols = pd.DataFrame(one_hot, columns=column_names)\n",
    "OH_cols.index = X.index\n",
    "\n",
    "num_X = X.drop('ocean_proximity', axis=1)\n",
    "\n",
    "OH_X = pd.concat([num_X, OH_cols], axis=1)"
   ]
  },
  {
   "cell_type": "code",
   "execution_count": 201,
   "metadata": {},
   "outputs": [],
   "source": [
    "X_train, X_test, y_train, y_test = train_test_split(OH_X, y, test_size=0.2, random_state=42)"
   ]
  },
  {
   "cell_type": "code",
   "execution_count": 202,
   "metadata": {},
   "outputs": [],
   "source": [
    "scaler = StandardScaler()\n",
    "X_train_scaled = scaler.fit_transform(X_train).tolist()\n",
    "X_test_scaled = scaler.transform(X_test).tolist()\n",
    "\n",
    "y_test_unscaled = y_test.tolist()\n",
    "y_train_unscaled = y_train.tolist()"
   ]
  },
  {
   "cell_type": "code",
   "execution_count": 260,
   "metadata": {},
   "outputs": [],
   "source": [
    "# Parameters\n",
    "\n",
    "num_iter = 500\n",
    "alpha = 0.01"
   ]
  },
  {
   "cell_type": "markdown",
   "metadata": {},
   "source": [
    "# Vanilla Python Implementation\n",
    "\n",
    "The code that follows is my own implementation of Linear Regression using Gradient Descent in Vanilla Python"
   ]
  },
  {
   "cell_type": "code",
   "execution_count": 204,
   "metadata": {},
   "outputs": [],
   "source": [
    "def dot(w, X):\n",
    "    ans = 0\n",
    "    for i in range(len(w)):\n",
    "        ans += (w[i] * X[i])\n",
    "\n",
    "    return ans"
   ]
  },
  {
   "cell_type": "code",
   "execution_count": 205,
   "metadata": {},
   "outputs": [],
   "source": [
    "def calculate_cost(X, y, m, w, b):\n",
    "    ans = 0\n",
    "    for i in range(m):\n",
    "        ans += (dot(w, X[i]) + b - y[i]) ** 2\n",
    "    \n",
    "    J = (ans / (2 * m))\n",
    "    return J"
   ]
  },
  {
   "cell_type": "code",
   "execution_count": 206,
   "metadata": {},
   "outputs": [],
   "source": [
    "def gradient_descent(X, y, m, w, b):\n",
    "    w_upd = []\n",
    "    for j in range(len(w)):\n",
    "        ans = 0\n",
    "        for i in range(m):\n",
    "            ans += (dot(w, X[i]) + b - y[i]) * X[i][j]\n",
    "\n",
    "        w_upd.extend([ans / m])\n",
    "    \n",
    "    ans = 0\n",
    "    for i in range(m):\n",
    "        ans += (dot(w, X[i]) + b - y[i])\n",
    "    b_upd = (ans / m)\n",
    "\n",
    "    return (w_upd, b_upd)"
   ]
  },
  {
   "cell_type": "code",
   "execution_count": 231,
   "metadata": {},
   "outputs": [],
   "source": [
    "w_init = [0] * len(X_train_scaled[1])\n",
    "b_init = 0\n",
    "\n",
    "cost_history_pure = []\n",
    "\n",
    "start_time = time.time()\n",
    "\n",
    "for counter in range(num_iter):\n",
    "    J = calculate_cost(X_train_scaled, y_train_unscaled, len(X_train_scaled), w_init, b_init)\n",
    "    w_upd, b_upd = gradient_descent(X_train_scaled, y_train_unscaled, len(X_train_scaled), w_init, b_init)\n",
    "\n",
    "    cost_history_pure.append(J)\n",
    "\n",
    "    for i in range(len(w_init)):\n",
    "        w_init[i] -= (alpha * w_upd[i])\n",
    "    b_init -= (alpha * b_upd)\n",
    "\n",
    "end_time = time.time()"
   ]
  },
  {
   "cell_type": "code",
   "execution_count": 232,
   "metadata": {},
   "outputs": [
    {
     "name": "stdout",
     "output_type": "stream",
     "text": [
      "Runtime for Pure Python Implementation for 3000 epochs: 283.38219022750854 seconds\n"
     ]
    }
   ],
   "source": [
    "print(f'Runtime for Pure Python Implementation for {num_iter} epochs: {end_time - start_time} seconds')"
   ]
  },
  {
   "cell_type": "code",
   "execution_count": 237,
   "metadata": {},
   "outputs": [
    {
     "data": {
      "image/png": "[encoded data removed]",
      "text/plain": [
       "<Figure size 640x480 with 1 Axes>"
      ]
     },
     "metadata": {},
     "output_type": "display_data"
    }
   ],
   "source": [
    "plt.plot(cost_history_pure)\n",
    "plt.xlabel(\"Iterations\")\n",
    "plt.ylabel(\"Cost\")\n",
    "plt.title(\"Cost Function over Iterations (Pure Python)\")\n",
    "plt.savefig('pure')\n",
    "plt.show()"
   ]
  },
  {
   "cell_type": "code",
   "execution_count": 210,
   "metadata": {},
   "outputs": [
    {
     "name": "stdout",
     "output_type": "stream",
     "text": [
      "1799605834.4836214\n",
      "23206909538.717247\n",
      "[59781.48744604445, -8410.302933425763, -21639.78197686287, 10941.206443429548, -22798.866975321638, 3830.933197778796, 7423.18008375263, 8676.240140836944] 192601.46214687717\n"
     ]
    }
   ],
   "source": [
    "print(J)\n",
    "print(calculate_cost(X_train_scaled, y_train_unscaled, len(X_train_scaled), [0,0,0,0,0,0,0,0], 0))\n",
    "print(w_init, b_init)"
   ]
  },
  {
   "cell_type": "code",
   "execution_count": 211,
   "metadata": {},
   "outputs": [],
   "source": [
    "def mean_absolute_error(y_true, y_pred):\n",
    "    return sum(abs(yt - yp) for yt, yp in zip(y_true, y_pred)) / len(y_true)\n",
    "\n",
    "def r2_score(y_true, y_pred):\n",
    "    mean_y = sum(y_true) / len(y_true)\n",
    "    ss_total = sum((yt - mean_y)**2 for yt in y_true)\n",
    "    ss_res = sum((yt - yp)**2 for yt, yp in zip(y_true, y_pred))\n",
    "    return 1 - (ss_res / ss_total)\n",
    "\n",
    "def root_mean_squared_error(y_true, y_pred):\n",
    "    mse = sum((yt - yp)**2 for yt, yp in zip(y_true, y_pred)) / len(y_true)\n",
    "    return mse**0.5"
   ]
  },
  {
   "cell_type": "code",
   "execution_count": 212,
   "metadata": {},
   "outputs": [
    {
     "name": "stdout",
     "output_type": "stream",
     "text": [
      "RMSE: 59938.39366764223\n",
      "MAE: 44079.524405786506\n",
      "R² Score: 0.6144675729014736\n"
     ]
    }
   ],
   "source": [
    "y_pred = [sum(xi * wi for xi, wi in zip(x, w_init)) + b_init for x in X_test_scaled]\n",
    "print(\"RMSE:\", root_mean_squared_error(y_test_unscaled, y_pred))\n",
    "print(\"MAE:\", mean_absolute_error(y_test_unscaled, y_pred))\n",
    "print(\"R² Score:\", r2_score(y_test_unscaled, y_pred))"
   ]
  },
  {
   "cell_type": "markdown",
   "metadata": {},
   "source": [
    "# Numpy Accelerated Implementation\n",
    "The code that follows is my own implementation of Linear Regression using Gradient Descent, with the speed of Numpy"
   ]
  },
  {
   "cell_type": "code",
   "execution_count": 213,
   "metadata": {},
   "outputs": [],
   "source": [
    "def calculate_cost_np(X, y, m, w, b):\n",
    "\n",
    "    predictions = np.dot(X, w) + b\n",
    "    errors = predictions - y\n",
    "    ans = np.sum(errors ** 2)\n",
    "    \n",
    "    J = (ans / (2 * m))\n",
    "    return J"
   ]
  },
  {
   "cell_type": "code",
   "execution_count": 214,
   "metadata": {},
   "outputs": [],
   "source": [
    "def gradient_descent_np(X, y, m, w, b):\n",
    "    predictions = np.dot(X, w) + b\n",
    "    errors = predictions - y\n",
    "    \n",
    "    w_upd = np.dot(X.T, errors) / m\n",
    "    b_upd = np.sum(errors) / m\n",
    "\n",
    "    return (w_upd, b_upd)"
   ]
  },
  {
   "cell_type": "code",
   "execution_count": 261,
   "metadata": {},
   "outputs": [],
   "source": [
    "w_init_np = np.zeros(shape=X_train.shape[1])\n",
    "b_init_np = 0\n",
    "\n",
    "cost_history_np = []\n",
    "\n",
    "start_time = time.time()\n",
    "\n",
    "X_train_np = np.array(X_train_scaled)\n",
    "X_test_np = np.array(X_test_scaled)\n",
    "y_train_np = np.array(y_train)\n",
    "y_test_np = np.array(y_test)\n",
    "\n",
    "for counter in range(num_iter):\n",
    "    J = calculate_cost_np(X_train_np, y_train_np, len(X_train), w_init_np, b_init_np)\n",
    "    w_upd, b_upd = gradient_descent_np(X_train_np, y_train_np, len(X_train), w_init_np, b_init_np)\n",
    "\n",
    "    cost_history_np.append(J)\n",
    "\n",
    "    w_init_np -= (alpha * w_upd)\n",
    "    b_init_np -= (alpha * b_upd)\n",
    "\n",
    "end_time = time.time()"
   ]
  },
  {
   "cell_type": "code",
   "execution_count": 262,
   "metadata": {},
   "outputs": [
    {
     "name": "stdout",
     "output_type": "stream",
     "text": [
      "Runtime for Numpy Accelerated Implementation for 500 epochs: 0.09881591796875 seconds\n"
     ]
    }
   ],
   "source": [
    "print(f'Runtime for Numpy Accelerated Implementation for {num_iter} epochs: {end_time - start_time} seconds')"
   ]
  },
  {
   "cell_type": "code",
   "execution_count": 263,
   "metadata": {},
   "outputs": [
    {
     "data": {
      "image/png": "[encoded data removed]",
      "text/plain": [
       "<Figure size 640x480 with 1 Axes>"
      ]
     },
     "metadata": {},
     "output_type": "display_data"
    }
   ],
   "source": [
    "plt.plot(cost_history_np)\n",
    "plt.xlabel(\"Iterations\")\n",
    "plt.ylabel(\"Cost\")\n",
    "plt.title(\"Cost Function over Iterations (NumPy)\")\n",
    "plt.savefig('numpy.png')\n",
    "plt.show()"
   ]
  },
  {
   "cell_type": "code",
   "execution_count": 264,
   "metadata": {},
   "outputs": [
    {
     "name": "stdout",
     "output_type": "stream",
     "text": [
      "1816215231.8899398\n",
      "23206909538.717247\n",
      "[59781.48744604445, -8410.302933425763, -21639.78197686287, 10941.206443429548, -22798.866975321638, 3830.933197778796, 7423.18008375263, 8676.240140836944] 192601.46214687717\n"
     ]
    }
   ],
   "source": [
    "print(J)\n",
    "print(calculate_cost_np(X_train_np, y_train_np, len(X_train_np), np.zeros(shape=X_train.shape[1]), 0))\n",
    "print(w_init, b_init)"
   ]
  },
  {
   "cell_type": "code",
   "execution_count": 220,
   "metadata": {},
   "outputs": [
    {
     "name": "stdout",
     "output_type": "stream",
     "text": [
      "RMSE: 59938.393667642194\n",
      "MAE: 44079.52440578654\n",
      "R² Score: 0.6144675729014744\n"
     ]
    }
   ],
   "source": [
    "y_pred = [sum(xi * wi for xi, wi in zip(x, w_init)) + b_init for x in X_test_np]\n",
    "\n",
    "print(\"RMSE:\", root_mean_squared_error(y_test_np, y_pred))\n",
    "print(\"MAE:\", mean_absolute_error(y_test_np, y_pred))\n",
    "print(\"R² Score:\", r2_score(y_test_np, y_pred))"
   ]
  },
  {
   "cell_type": "markdown",
   "metadata": {},
   "source": [
    "# Scikit Learn Implementation\n",
    "Implementing Linear Regression usking sklearn.linear_model.LinearRegression()"
   ]
  },
  {
   "cell_type": "code",
   "execution_count": 221,
   "metadata": {},
   "outputs": [],
   "source": [
    "start_time = time.time()\n",
    "\n",
    "model = LinearRegression()\n",
    "model.fit(X_train, y_train)\n",
    "\n",
    "end_time = time.time()"
   ]
  },
  {
   "cell_type": "code",
   "execution_count": 222,
   "metadata": {},
   "outputs": [
    {
     "name": "stdout",
     "output_type": "stream",
     "text": [
      "Runtime for Scikit Learn Implementation for 3000 epochs: 0.0056836605072021484 seconds\n"
     ]
    }
   ],
   "source": [
    "print(f'Runtime for Scikit Learn Implementation for {num_iter} epochs: {end_time - start_time} seconds')"
   ]
  },
  {
   "cell_type": "code",
   "execution_count": 223,
   "metadata": {},
   "outputs": [
    {
     "name": "stdout",
     "output_type": "stream",
     "text": [
      "RMSE: 59938.49824327341\n",
      "MAE: 44079.34472970036\n",
      "R² Score: 0.6144662276090955\n"
     ]
    }
   ],
   "source": [
    "y_pred = model.predict(X_test)\n",
    "\n",
    "print(\"RMSE:\", root_mean_squared_error(y_test, y_pred))\n",
    "print(\"MAE:\", mean_absolute_error(y_test, y_pred))\n",
    "print(\"R² Score:\", r2_score(y_test, y_pred))"
   ]
  },
  {
   "cell_type": "code",
   "execution_count": null,
   "metadata": {},
   "outputs": [],
   "source": []
  }
 ],
 "metadata": {
  "kernelspec": {
   "display_name": "venv",
   "language": "python",
   "name": "python3"
  },
  "language_info": {
   "codemirror_mode": {
    "name": "ipython",
    "version": 3
   },
   "file_extension": ".py",
   "mimetype": "text/x-python",
   "name": "python",
   "nbconvert_exporter": "python",
   "pygments_lexer": "ipython3",
   "version": "3.13.1"
  }
 },
 "nbformat": 4,
 "nbformat_minor": 2
}
