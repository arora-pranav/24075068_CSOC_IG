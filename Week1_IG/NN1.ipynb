{
 "cells": [
  {
   "cell_type": "markdown",
   "id": "b6aebef9",
   "metadata": {},
   "source": [
    "testing my own neural network in this one, i wLll have one begLnning layer for 10 inputs (0 to 9) and 1 output layer with 2 neurons (odd or even) and for starters i will only go ahead with 2 layers"
   ]
  },
  {
   "cell_type": "code",
   "execution_count": 65,
   "id": "8d950e22",
   "metadata": {},
   "outputs": [],
   "source": [
    "import numpy as np\n",
    "import pandas as pd\n",
    "import matplotlib.pyplot as plt\n",
    "import seaborn as sns"
   ]
  },
  {
   "cell_type": "code",
   "execution_count": 78,
   "id": "fb34d713",
   "metadata": {},
   "outputs": [],
   "source": [
    "m_train = 10000\n",
    "X_train = np.zeros(shape=(10, m_train),dtype='int32')\n",
    "y_train = np.zeros(shape=(2, m_train), dtype='int32')\n",
    "\n",
    "for j in range(m_train):\n",
    "    i = np.random.randint(0, X_train.shape[0])\n",
    "    X_train[i, j] = 1\n",
    "    y_train[i%2, j] = 1"
   ]
  },
  {
   "cell_type": "code",
   "execution_count": 79,
   "id": "0e5e856b",
   "metadata": {},
   "outputs": [],
   "source": [
    "m_test = 100\n",
    "X_test = np.zeros(shape=(X_train.shape[0], m_test),dtype='int32')\n",
    "y_test = np.zeros(shape=(y_train.shape[0], m_test), dtype='int32')\n",
    "\n",
    "for j in range(m_test):\n",
    "    i = np.random.randint(0, X_test.shape[0])\n",
    "    X_test[i, j] = 1\n",
    "    y_test[i%2, j] = 1"
   ]
  },
  {
   "cell_type": "code",
   "execution_count": null,
   "id": "a87ed685",
   "metadata": {},
   "outputs": [],
   "source": [
    "class NeuralNetwork:\n",
    "\n",
    "    @staticmethod\n",
    "    def sigmoid(x):\n",
    "        return 1 / (1 + np.exp(-x))\n",
    "\n",
    "    @staticmethod\n",
    "    def sigmoid_prime(x: np.ndarray):\n",
    "        a = NeuralNetwork.sigmoid(x)\n",
    "        return a * (1 - a)\n",
    "\n",
    "    @staticmethod\n",
    "    def softmax(x):\n",
    "        y = np.exp(x)\n",
    "        s = sum(y)\n",
    "        return y / s\n",
    "\n",
    "    @staticmethod\n",
    "    def softmax_prime(x):\n",
    "        a = NeuralNetwork.softmax(x)\n",
    "        return a - (a**2)\n",
    "    \n",
    "    @staticmethod\n",
    "    def act_fn(x):\n",
    "        return NeuralNetwork.sigmoid(x)\n",
    "\n",
    "    @staticmethod\n",
    "    def act_fn_derivative(x):\n",
    "        return NeuralNetwork.sigmoid_prime(x)\n",
    "\n",
    "    @staticmethod\n",
    "    def calculateLoss(y_true, y_pred):\n",
    "        return (-1 * y_true) * np.log(y_pred)\n",
    "\n",
    "    @staticmethod\n",
    "    def calculateLossDerivative(y_true, y_pred):\n",
    "        return (y_pred - y_true)\n",
    "\n",
    "    def __init__(self, layer_sizes: list):\n",
    "\n",
    "        self.costs = []\n",
    "        self.iters = []\n",
    "        self.weights = []\n",
    "        self.biases = []\n",
    "        self.Layers = len(layer_sizes)\n",
    "\n",
    "        for k in range(0, len(layer_sizes) - 1):\n",
    "            self.weights.append(np.zeros(shape=(layer_sizes[k + 1], layer_sizes[k])))\n",
    "            self.biases.append(np.zeros(shape=(layer_sizes[k + 1], 1)))\n",
    "        pass\n",
    "\n",
    "\n",
    "    def forward(self, X):\n",
    "        self.activations = [X]\n",
    "        self.Z = []\n",
    "\n",
    "        for i, (w, b) in enumerate(zip(self.weights, self.biases)):\n",
    "            z = np.dot(w, self.activations[i]) + b\n",
    "            if i == len(self.weights) - 1:\n",
    "                a = NeuralNetwork.softmax(z)\n",
    "            else:\n",
    "                a = NeuralNetwork.act_fn(z)\n",
    "            self.Z.append(z)\n",
    "            self.activations.append(a)\n",
    "\n",
    "        return self.activations[len(self.activations) - 1]\n",
    "\n",
    "    def backward(self, X, y):\n",
    "\n",
    "        dw = [0] * (self.Layers - 1)\n",
    "        db = [0] * (self.Layers - 1)\n",
    "        dz = [0] * (self.Layers)\n",
    "\n",
    "        y_pred = self.activations[len(self.activations) - 1]\n",
    "\n",
    "        cost = np.mean(np.sum(NeuralNetwork.calculateLoss(y, y_pred), axis=1))/2\n",
    "        dz[self.Layers - 1] = NeuralNetwork.calculateLossDerivative(y, y_pred)\n",
    "\n",
    "        for Lm1 in range(self.Layers - 2, -1, -1):\n",
    "            aLm1 = self.activations[Lm1]\n",
    "\n",
    "            dw[Lm1] = (dz[Lm1+1]) @ (aLm1.T)\n",
    "            db[Lm1] = ((dz[Lm1+1])) @ np.ones(shape=(X.shape[1], 1), dtype=\"int32\")\n",
    "            dz[Lm1] = dz[Lm1+1]\n",
    "\n",
    "        return cost, dw, db\n",
    "\n",
    "    def train(self, X, y, alpha=0.0001, epochs=10000):\n",
    "        for i in range(epochs):\n",
    "            self.forward(X)\n",
    "            cost, dw, db = self.backward(X, y)\n",
    "\n",
    "            if i % (epochs // 10) == 0:\n",
    "                self.costs.append(cost)\n",
    "                self.iters.append(i)\n",
    "\n",
    "            for j in range(self.Layers - 1):\n",
    "                self.weights[j] -= alpha * dw[j]\n",
    "                self.biases[j] -= alpha * db[j]\n",
    "\n",
    "        return\n",
    "\n",
    "    def predict(self, X):\n",
    "        return self.forward(X)\n",
    "\n",
    "    def evaluate(self, X, y_true):\n",
    "        y_pred = self.forward(X)\n",
    "\n",
    "        pred_labels = np.argmax(y_pred, axis=0)\n",
    "        true_labels = np.argmax(y_true, axis=0)\n",
    "\n",
    "        accuracy = np.mean(pred_labels == true_labels)\n",
    "        return accuracy"
   ]
  },
  {
   "cell_type": "code",
   "execution_count": 88,
   "id": "839eb2f5",
   "metadata": {},
   "outputs": [
    {
     "ename": "ValueError",
     "evalue": "operands could not be broadcast together with shapes (10,10) (2,10) (10,10) ",
     "output_type": "error",
     "traceback": [
      "\u001b[31m---------------------------------------------------------------------------\u001b[39m",
      "\u001b[31mValueError\u001b[39m                                Traceback (most recent call last)",
      "\u001b[36mCell\u001b[39m\u001b[36m \u001b[39m\u001b[32mIn[88]\u001b[39m\u001b[32m, line 2\u001b[39m\n\u001b[32m      1\u001b[39m model = NeuralNetwork([\u001b[32m10\u001b[39m, \u001b[32m10\u001b[39m, \u001b[32m2\u001b[39m])\n\u001b[32m----> \u001b[39m\u001b[32m2\u001b[39m \u001b[43mmodel\u001b[49m\u001b[43m.\u001b[49m\u001b[43mtrain\u001b[49m\u001b[43m(\u001b[49m\u001b[43mX_train\u001b[49m\u001b[43m,\u001b[49m\u001b[43m \u001b[49m\u001b[43my_train\u001b[49m\u001b[43m,\u001b[49m\u001b[43m \u001b[49m\u001b[43malpha\u001b[49m\u001b[43m=\u001b[49m\u001b[32;43m0.0001\u001b[39;49m\u001b[43m,\u001b[49m\u001b[43m \u001b[49m\u001b[43mepochs\u001b[49m\u001b[43m=\u001b[49m\u001b[32;43m1000\u001b[39;49m\u001b[43m)\u001b[49m\n\u001b[32m      3\u001b[39m acc = model.evaluate(X_test, y_test)\n\u001b[32m      4\u001b[39m \u001b[38;5;28mprint\u001b[39m(\u001b[33mf\u001b[39m\u001b[33m\"\u001b[39m\u001b[33mTest Accuracy: \u001b[39m\u001b[38;5;132;01m{\u001b[39;00macc\u001b[38;5;250m \u001b[39m*\u001b[38;5;250m \u001b[39m\u001b[32m100\u001b[39m\u001b[38;5;132;01m:\u001b[39;00m\u001b[33m.2f\u001b[39m\u001b[38;5;132;01m}\u001b[39;00m\u001b[33m%\u001b[39m\u001b[33m\"\u001b[39m)\n",
      "\u001b[36mCell\u001b[39m\u001b[36m \u001b[39m\u001b[32mIn[87]\u001b[39m\u001b[32m, line 102\u001b[39m, in \u001b[36mNeuralNetwork.train\u001b[39m\u001b[34m(self, X, y, alpha, epochs)\u001b[39m\n\u001b[32m     99\u001b[39m         \u001b[38;5;28mself\u001b[39m.iters.append(i)\n\u001b[32m    101\u001b[39m     \u001b[38;5;28;01mfor\u001b[39;00m j \u001b[38;5;129;01min\u001b[39;00m \u001b[38;5;28mrange\u001b[39m(\u001b[38;5;28mself\u001b[39m.Layers - \u001b[32m1\u001b[39m):\n\u001b[32m--> \u001b[39m\u001b[32m102\u001b[39m         \u001b[38;5;28;43mself\u001b[39;49m\u001b[43m.\u001b[49m\u001b[43mweights\u001b[49m\u001b[43m[\u001b[49m\u001b[43mj\u001b[49m\u001b[43m]\u001b[49m\u001b[43m \u001b[49m\u001b[43m-\u001b[49m\u001b[43m=\u001b[49m\u001b[43m \u001b[49m\u001b[43malpha\u001b[49m\u001b[43m \u001b[49m\u001b[43m*\u001b[49m\u001b[43m \u001b[49m\u001b[43mdw\u001b[49m\u001b[43m[\u001b[49m\u001b[43mj\u001b[49m\u001b[43m]\u001b[49m\n\u001b[32m    103\u001b[39m         \u001b[38;5;28mself\u001b[39m.biases[j] -= alpha * db[j]\n\u001b[32m    105\u001b[39m \u001b[38;5;28;01mreturn\u001b[39;00m\n",
      "\u001b[31mValueError\u001b[39m: operands could not be broadcast together with shapes (10,10) (2,10) (10,10) "
     ]
    }
   ],
   "source": [
    "model = NeuralNetwork([10, 10, 2])\n",
    "model.train(X_train, y_train, alpha=0.0001, epochs=1000)\n",
    "acc = model.evaluate(X_test, y_test)\n",
    "print(f\"Test Accuracy: {acc * 100:.2f}%\")"
   ]
  },
  {
   "cell_type": "code",
   "execution_count": null,
   "id": "61888a34",
   "metadata": {},
   "outputs": [
    {
     "data": {
      "text/plain": [
       "<Axes: >"
      ]
     },
     "execution_count": 86,
     "metadata": {},
     "output_type": "execute_result"
    },
    {
     "data": {
      "image/png": "[encoded data removed]",
      "text/plain": [
       "<Figure size 640x480 with 1 Axes>"
      ]
     },
     "metadata": {},
     "output_type": "display_data"
    }
   ],
   "source": [
    "sns.lineplot(x=model.iters, y = model.costs)"
   ]
  },
  {
   "cell_type": "code",
   "execution_count": null,
   "id": "c8314e92",
   "metadata": {},
   "outputs": [],
   "source": []
  }
 ],
 "metadata": {
  "kernelspec": {
   "display_name": ".venv",
   "language": "python",
   "name": "python3"
  },
  "language_info": {
   "codemirror_mode": {
    "name": "ipython",
    "version": 3
   },
   "file_extension": ".py",
   "mimetype": "text/x-python",
   "name": "python",
   "nbconvert_exporter": "python",
   "pygments_lexer": "ipython3",
   "version": "3.13.1"
  }
 },
 "nbformat": 4,
 "nbformat_minor": 5
}
