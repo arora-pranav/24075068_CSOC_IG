{
 "cells": [
  {
   "cell_type": "code",
   "execution_count": 29,
   "id": "fed482d8",
   "metadata": {},
   "outputs": [],
   "source": [
    "import torch\n",
    "import torch.nn as nn\n",
    "import torch.optim as optim\n",
    "from torch.utils.data import TensorDataset, DataLoader\n",
    "import numpy as np\n",
    "from sklearn.metrics import f1_score, confusion_matrix, ConfusionMatrixDisplay, precision_recall_curve, auc\n",
    "from sklearn.preprocessing import label_binarize\n",
    "import matplotlib.pyplot as plt\n",
    "\n",
    "device = torch.device('cuda' if torch.cuda.is_available() else 'cpu')"
   ]
  },
  {
   "cell_type": "code",
   "execution_count": 30,
   "id": "d956a760",
   "metadata": {},
   "outputs": [],
   "source": [
    "class SimpleNN(nn.Module):\n",
    "    def __init__(self):\n",
    "        super(SimpleNN, self).__init__()\n",
    "        self.model = nn.Sequential(\n",
    "            nn.Linear(28*28, 128),\n",
    "            nn.ReLU(),\n",
    "            nn.Linear(128, 10)\n",
    "        )\n",
    "        \n",
    "    def forward(self, x):\n",
    "        return self.model(x)"
   ]
  },
  {
   "cell_type": "code",
   "execution_count": 31,
   "id": "b7967430",
   "metadata": {},
   "outputs": [],
   "source": [
    "import struct\n",
    "\n",
    "def load_images(filename):\n",
    "    with open(filename, 'rb') as f:\n",
    "        magic, num, rows, cols = struct.unpack(\">IIII\", f.read(16))\n",
    "        images = np.frombuffer(f.read(), dtype=np.uint8).reshape(num, rows, cols)\n",
    "        return images\n",
    "\n",
    "def load_labels(filename):\n",
    "    with open(filename, 'rb') as f:\n",
    "        magic, num = struct.unpack(\">II\", f.read(8))\n",
    "        labels = np.frombuffer(f.read(), dtype=np.uint8)\n",
    "        return labels\n",
    "\n",
    "train_images = load_images('input/train-images.idx3-ubyte')/255\n",
    "train_labels = load_labels('input/train-labels.idx1-ubyte')\n",
    "test_images = load_images('input/t10k-images.idx3-ubyte')/255\n",
    "test_labels = load_labels('input/t10k-labels.idx1-ubyte')\n",
    "\n",
    "flat_train_images = train_images.reshape(60000, 28*28)\n",
    "flat_test_images = test_images.reshape(10000, 28*28)\n",
    "\n",
    "y_train = train_labels\n",
    "y_test = test_labels\n",
    "\n",
    "X_train_tensor = torch.tensor(flat_train_images, dtype=torch.float32)\n",
    "y_train_tensor = torch.tensor(y_train, dtype=torch.long)\n",
    "\n",
    "X_test_tensor = torch.tensor(flat_test_images, dtype=torch.float32)\n",
    "y_test_tensor = torch.tensor(y_test, dtype=torch.long)\n",
    "\n",
    "train_dataset = TensorDataset(X_train_tensor, y_train_tensor)\n",
    "test_dataset = TensorDataset(X_test_tensor, y_test_tensor)\n",
    "\n",
    "train_loader = DataLoader(train_dataset, batch_size=64, shuffle=True)\n",
    "test_loader = DataLoader(test_dataset, batch_size=64)"
   ]
  },
  {
   "cell_type": "code",
   "execution_count": 32,
   "id": "1e6da080",
   "metadata": {},
   "outputs": [],
   "source": [
    "model = SimpleNN().to(device)\n",
    "\n",
    "criterion = nn.CrossEntropyLoss()\n",
    "optimizer = optim.Adam(model.parameters(), lr=0.003)"
   ]
  },
  {
   "cell_type": "code",
   "execution_count": 33,
   "id": "28043fe9",
   "metadata": {},
   "outputs": [
    {
     "name": "stdout",
     "output_type": "stream",
     "text": [
      "Epoch [1/10], Loss: 0.2447\n",
      "Epoch [2/10], Loss: 0.1064\n",
      "Epoch [3/10], Loss: 0.0732\n",
      "Epoch [4/10], Loss: 0.0564\n",
      "Epoch [5/10], Loss: 0.0470\n",
      "Epoch [6/10], Loss: 0.0395\n",
      "Epoch [7/10], Loss: 0.0331\n",
      "Epoch [8/10], Loss: 0.0270\n",
      "Epoch [9/10], Loss: 0.0251\n",
      "Epoch [10/10], Loss: 0.0201\n"
     ]
    }
   ],
   "source": [
    "num_epochs = 10\n",
    "for epoch in range(num_epochs):\n",
    "    model.train()\n",
    "    total_loss = 0\n",
    "    for images, labels in train_loader:\n",
    "        images, labels = images.to(device), labels.to(device)\n",
    "\n",
    "        outputs = model(images)\n",
    "        loss = criterion(outputs, labels)\n",
    "        \n",
    "        optimizer.zero_grad()\n",
    "        loss.backward()\n",
    "        optimizer.step()\n",
    "        \n",
    "        total_loss += loss.item()\n",
    "\n",
    "    print(f'Epoch [{epoch+1}/{num_epochs}], Loss: {total_loss/len(train_loader):.4f}')"
   ]
  },
  {
   "cell_type": "code",
   "execution_count": 35,
   "id": "b85fff9d",
   "metadata": {},
   "outputs": [
    {
     "name": "stdout",
     "output_type": "stream",
     "text": [
      "Test Accuracy: 97.32%\n",
      "Train Accuracy: 98.99%\n"
     ]
    }
   ],
   "source": [
    "model.eval()\n",
    "correct = 0\n",
    "total = 0\n",
    "with torch.no_grad():\n",
    "    for images, labels in test_loader:\n",
    "        images, labels = images.to(device), labels.to(device)\n",
    "        outputs = model(images)\n",
    "        _, predicted = torch.max(outputs.data, 1)\n",
    "        total += labels.size(0)\n",
    "        correct += (predicted == labels).sum().item()\n",
    "\n",
    "print(f'Test Accuracy: {100 * correct / total:.2f}%')\n",
    "\n",
    "correct = 0\n",
    "total = 0\n",
    "with torch.no_grad():\n",
    "    for images, labels in train_loader:\n",
    "        images, labels = images.to(device), labels.to(device)\n",
    "        outputs = model(images)\n",
    "        _, predicted = torch.max(outputs.data, 1)\n",
    "        total += labels.size(0)\n",
    "        correct += (predicted == labels).sum().item()\n",
    "\n",
    "print(f'Train Accuracy: {100 * correct / total:.2f}%')"
   ]
  },
  {
   "cell_type": "code",
   "execution_count": null,
   "id": "9a626752",
   "metadata": {},
   "outputs": [],
   "source": [
    "# Test Accuracy: 97.86% with lr 0.003 and epochs 10"
   ]
  },
  {
   "cell_type": "code",
   "execution_count": 34,
   "id": "d08cb93b",
   "metadata": {},
   "outputs": [
    {
     "data": {
      "image/png": "[encoded data removed]",
      "text/plain": [
       "<Figure size 640x480 with 2 Axes>"
      ]
     },
     "metadata": {},
     "output_type": "display_data"
    },
    {
     "name": "stdout",
     "output_type": "stream",
     "text": [
      "Accuracy:      0.9732\n",
      "F1 Score:      0.9728\n",
      "PR AUC (avg):  0.9959\n"
     ]
    }
   ],
   "source": [
    "def evaluate_model(model, dataloader, num_classes=10, device='cpu', show_confusion=True):\n",
    "    model.eval()\n",
    "    all_preds = []\n",
    "    all_labels = []\n",
    "    all_probs = []\n",
    "\n",
    "    with torch.no_grad():\n",
    "        for images, labels in dataloader:\n",
    "            images, labels = images.to(device), labels.to(device)\n",
    "            outputs = model(images)\n",
    "            probs = torch.softmax(outputs, dim=1)\n",
    "\n",
    "            _, predicted = torch.max(probs, 1)\n",
    "\n",
    "            all_preds.extend(predicted.cpu().numpy())\n",
    "            all_labels.extend(labels.cpu().numpy())\n",
    "            all_probs.extend(probs.cpu().numpy())\n",
    "\n",
    "    all_preds = np.array(all_preds)\n",
    "    all_labels = np.array(all_labels)\n",
    "    all_probs = np.array(all_probs)\n",
    "\n",
    "    # --- Accuracy ---\n",
    "    accuracy = np.mean(all_preds == all_labels)\n",
    "\n",
    "    # --- F1 Score (macro average) ---\n",
    "    f1 = f1_score(all_labels, all_preds, average='macro')\n",
    "\n",
    "    # --- PR-AUC (macro) ---\n",
    "    y_true_bin = label_binarize(all_labels, classes=range(num_classes))  # shape: (N, num_classes)\n",
    "    pr_auc_per_class = []\n",
    "\n",
    "    for i in range(num_classes):\n",
    "        precision, recall, _ = precision_recall_curve(y_true_bin[:, i], all_probs[:, i])\n",
    "        pr_auc = auc(recall, precision)\n",
    "        pr_auc_per_class.append(pr_auc)\n",
    "\n",
    "    pr_auc_macro = np.mean(pr_auc_per_class)\n",
    "\n",
    "    # --- Confusion Matrix ---\n",
    "    if show_confusion:\n",
    "        cm = confusion_matrix(all_labels, all_preds)\n",
    "        disp = ConfusionMatrixDisplay(confusion_matrix=cm, display_labels=range(num_classes))\n",
    "        disp.plot(cmap='Blues', values_format='d')\n",
    "        plt.title(\"Confusion Matrix\")\n",
    "        plt.show()\n",
    "\n",
    "    # --- Print Summary ---\n",
    "    print(f\"Accuracy:      {accuracy:.4f}\")\n",
    "    print(f\"F1 Score:      {f1:.4f}\")\n",
    "    print(f\"PR AUC (avg):  {pr_auc_macro:.4f}\")\n",
    "\n",
    "    return {\n",
    "        'accuracy': accuracy,\n",
    "        'f1': f1,\n",
    "        'pr_auc_macro': pr_auc_macro,\n",
    "        'pr_auc_per_class': pr_auc_per_class,\n",
    "        'confusion_matrix': cm if show_confusion else None\n",
    "    }\n",
    "\n",
    "metrics = evaluate_model(model, test_loader, num_classes=10, device=device)"
   ]
  },
  {
   "cell_type": "code",
   "execution_count": null,
   "id": "def4ff18",
   "metadata": {},
   "outputs": [],
   "source": []
  }
 ],
 "metadata": {
  "kernelspec": {
   "display_name": ".venv",
   "language": "python",
   "name": "python3"
  },
  "language_info": {
   "codemirror_mode": {
    "name": "ipython",
    "version": 3
   },
   "file_extension": ".py",
   "mimetype": "text/x-python",
   "name": "python",
   "nbconvert_exporter": "python",
   "pygments_lexer": "ipython3",
   "version": "3.13.1"
  }
 },
 "nbformat": 4,
 "nbformat_minor": 5
}
