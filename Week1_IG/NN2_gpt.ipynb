{
 "cells": [
  {
   "cell_type": "code",
   "execution_count": 1,
   "id": "c0615958",
   "metadata": {},
   "outputs": [],
   "source": [
    "import numpy as np\n",
    "import seaborn as sns\n",
    "import matplotlib.pyplot as plt\n",
    "import pandas as pd"
   ]
  },
  {
   "cell_type": "code",
   "execution_count": 3,
   "id": "0268a31c",
   "metadata": {},
   "outputs": [],
   "source": [
    "m_train = 10000\n",
    "X_train = np.zeros(shape=(10, m_train),dtype='int32')\n",
    "y_train = np.zeros(shape=(2, m_train), dtype='int32')\n",
    "\n",
    "for j in range(m_train):\n",
    "    i = np.random.randint(0, X_train.shape[0])\n",
    "    X_train[i, j] = 1\n",
    "    y_train[i%2, j] = 1"
   ]
  },
  {
   "cell_type": "code",
   "execution_count": 4,
   "id": "f153d197",
   "metadata": {},
   "outputs": [],
   "source": [
    "m_test = 100\n",
    "X_test = np.zeros(shape=(X_train.shape[0], m_test),dtype='int32')\n",
    "y_test = np.zeros(shape=(y_train.shape[0], m_test), dtype='int32')\n",
    "\n",
    "for j in range(m_test):\n",
    "    i = np.random.randint(0, X_test.shape[0])\n",
    "    X_test[i, j] = 1\n",
    "    y_test[i%2, j] = 1"
   ]
  },
  {
   "cell_type": "code",
   "execution_count": 2,
   "id": "583c5cc1",
   "metadata": {},
   "outputs": [],
   "source": [
    "class NeuralNetwork:\n",
    "\n",
    "    @staticmethod\n",
    "    def sigmoid(x):\n",
    "        return 1 / (1 + np.exp(-x))\n",
    "\n",
    "    @staticmethod\n",
    "    def sigmoid_prime(x):\n",
    "        a = NeuralNetwork.sigmoid(x)\n",
    "        return a * (1 - a)\n",
    "\n",
    "    @staticmethod\n",
    "    def softmax(x):\n",
    "        # Stability fix: subtract max for numerical stability\n",
    "        exp_shifted = np.exp(x - np.max(x, axis=0, keepdims=True))\n",
    "        return exp_shifted / np.sum(exp_shifted, axis=0, keepdims=True)\n",
    "\n",
    "    @staticmethod\n",
    "    def cross_entropy_loss(y_true, y_pred):\n",
    "        # Add epsilon to avoid log(0)\n",
    "        eps = 1e-12\n",
    "        return -np.sum(y_true * np.log(y_pred + eps)) / y_true.shape[1]\n",
    "\n",
    "    @staticmethod\n",
    "    def cross_entropy_derivative(y_true, y_pred):\n",
    "        return y_pred - y_true\n",
    "\n",
    "    def __init__(self, layer_sizes):\n",
    "        self.costs = []\n",
    "        self.iters = []\n",
    "        self.weights = []\n",
    "        self.biases = []\n",
    "        self.Layers = len(layer_sizes)\n",
    "\n",
    "        for k in range(self.Layers - 1):\n",
    "            # Xavier initialization for sigmoid\n",
    "            self.weights.append(np.random.randn(layer_sizes[k + 1], layer_sizes[k]) * np.sqrt(1. / layer_sizes[k]))\n",
    "            self.biases.append(np.zeros((layer_sizes[k + 1], 1)))\n",
    "\n",
    "    def forward(self, X):\n",
    "        self.activations = [X]\n",
    "        self.Z = []\n",
    "\n",
    "        for i, (w, b) in enumerate(zip(self.weights, self.biases)):\n",
    "            z = np.dot(w, self.activations[-1]) + b\n",
    "            self.Z.append(z)\n",
    "\n",
    "            if i == self.Layers - 2:\n",
    "                a = NeuralNetwork.softmax(z)\n",
    "            else:\n",
    "                a = NeuralNetwork.sigmoid(z)\n",
    "\n",
    "            self.activations.append(a)\n",
    "\n",
    "        return self.activations[-1]\n",
    "\n",
    "    def backward(self, X, y):\n",
    "        dw = [None] * (self.Layers - 1)\n",
    "        db = [None] * (self.Layers - 1)\n",
    "        dz = [None] * (self.Layers)\n",
    "\n",
    "        y_pred = self.activations[-1]\n",
    "        cost = NeuralNetwork.cross_entropy_loss(y, y_pred)\n",
    "\n",
    "        # Last layer derivative\n",
    "        dz[-1] = NeuralNetwork.cross_entropy_derivative(y, y_pred)\n",
    "\n",
    "        for l in reversed(range(self.Layers - 1)):\n",
    "            a_prev = self.activations[l]\n",
    "            dz_current = dz[l + 1]\n",
    "\n",
    "            dw[l] = np.dot(dz_current, a_prev.T) / X.shape[1]\n",
    "            db[l] = np.sum(dz_current, axis=1, keepdims=True) / X.shape[1]\n",
    "\n",
    "            if l != 0:\n",
    "                da_prev = np.dot(self.weights[l].T, dz_current)\n",
    "                dz[l] = da_prev * NeuralNetwork.sigmoid_prime(self.Z[l - 1])\n",
    "\n",
    "        return cost, dw, db\n",
    "\n",
    "    def train(self, X, y, alpha=0.1, epochs=1000):\n",
    "        for i in range(epochs):\n",
    "            self.forward(X)\n",
    "            cost, dw, db = self.backward(X, y)\n",
    "\n",
    "            if i % (epochs // 10) == 0 or i == epochs - 1:\n",
    "                self.costs.append(cost)\n",
    "                self.iters.append(i)\n",
    "                print(f\"Epoch {i}, Cost: {cost:.4f}\")\n",
    "\n",
    "            for j in range(self.Layers - 1):\n",
    "                self.weights[j] -= alpha * dw[j]\n",
    "                self.biases[j] -= alpha * db[j]\n",
    "\n",
    "    def predict(self, X):\n",
    "        return self.forward(X)\n",
    "\n",
    "    def evaluate(self, X, y_true):\n",
    "        y_pred = self.forward(X)\n",
    "        pred_labels = np.argmax(y_pred, axis=0)\n",
    "        true_labels = np.argmax(y_true, axis=0)\n",
    "        accuracy = np.mean(pred_labels == true_labels)\n",
    "        return accuracy"
   ]
  },
  {
   "cell_type": "code",
   "execution_count": 14,
   "id": "e4667297",
   "metadata": {},
   "outputs": [
    {
     "name": "stdout",
     "output_type": "stream",
     "text": [
      "Epoch 0, Cost: 0.7275\n",
      "Epoch 1000, Cost: 0.0537\n",
      "Epoch 2000, Cost: 0.0264\n",
      "Epoch 3000, Cost: 0.0174\n",
      "Epoch 4000, Cost: 0.0130\n",
      "Epoch 5000, Cost: 0.0103\n",
      "Epoch 6000, Cost: 0.0086\n",
      "Epoch 7000, Cost: 0.0073\n",
      "Epoch 8000, Cost: 0.0064\n",
      "Epoch 9000, Cost: 0.0057\n",
      "Epoch 9999, Cost: 0.0051\n",
      "Test Accuracy: 100.00%\n"
     ]
    }
   ],
   "source": [
    "model = NeuralNetwork([10, 2])\n",
    "model.train(X_train, y_train, alpha=0.1, epochs=10000)\n",
    "acc = model.evaluate(X_test, y_test)\n",
    "print(f\"Test Accuracy: {acc * 100:.2f}%\")"
   ]
  },
  {
   "cell_type": "code",
   "execution_count": 13,
   "id": "ff7abcf2",
   "metadata": {},
   "outputs": [
    {
     "data": {
      "text/plain": [
       "<Axes: >"
      ]
     },
     "execution_count": 13,
     "metadata": {},
     "output_type": "execute_result"
    },
    {
     "data": {
      "image/png": "[encoded data removed]",
      "text/plain": [
       "<Figure size 640x480 with 1 Axes>"
      ]
     },
     "metadata": {},
     "output_type": "display_data"
    }
   ],
   "source": [
    "sns.lineplot(x=model.iters, y = model.costs)"
   ]
  },
  {
   "cell_type": "code",
   "execution_count": null,
   "id": "bb251e22",
   "metadata": {},
   "outputs": [],
   "source": []
  }
 ],
 "metadata": {
  "kernelspec": {
   "display_name": ".venv",
   "language": "python",
   "name": "python3"
  },
  "language_info": {
   "codemirror_mode": {
    "name": "ipython",
    "version": 3
   },
   "file_extension": ".py",
   "mimetype": "text/x-python",
   "name": "python",
   "nbconvert_exporter": "python",
   "pygments_lexer": "ipython3",
   "version": "3.13.1"
  }
 },
 "nbformat": 4,
 "nbformat_minor": 5
}
